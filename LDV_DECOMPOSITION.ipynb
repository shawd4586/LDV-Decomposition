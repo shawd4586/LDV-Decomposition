{
 "cells": [
  {
   "cell_type": "code",
   "execution_count": 7,
   "metadata": {
    "id": "SKWHkpdghYsJ"
   },
   "outputs": [],
   "source": [
    "def luDecomposition(mat, n):\n",
    "\n",
    "    lower = [[0 for x in range(n)]\n",
    "            for y in range(n)]\n",
    "    upper = [[0 for x in range(n)]\n",
    "            for y in range(n)]\n",
    "\n",
    "\n",
    "    for i in range(n):\n",
    "\n",
    "        for k in range(i, n):\n",
    "\n",
    "            sum = 0\n",
    "            for j in range(i):\n",
    "                sum += (lower[i][j] * upper[j][k])\n",
    "\n",
    "            # Evaluating U(i, k)\n",
    "            upper[i][k] = mat[i][k] - sum\n",
    "\n",
    "        for k in range(i, n):\n",
    "            if (i == k):\n",
    "                lower[i][i] = 1 # Diagonal as 1\n",
    "            else:\n",
    "\n",
    "                sum = 0\n",
    "                for j in range(i):\n",
    "                    sum += (lower[k][j] * upper[j][i])\n",
    "\n",
    "                # Evaluating L(k, i)\n",
    "                lower[k][i] = float((mat[k][i] - sum) /\n",
    "                                upper[i][i])\n",
    "\n",
    "    return lower,upper\n",
    "\n",
    "    \n",
    "\n",
    "        \n",
    "\n"
   ]
  },
  {
   "cell_type": "code",
   "execution_count": 8,
   "metadata": {
    "id": "lvrUbEy6QXEy"
   },
   "outputs": [],
   "source": [
    "def LDV(A,n):\n",
    "\n",
    "  L,U= luDecomposition(A,n)\n",
    "\n",
    "  V=[]\n",
    "\n",
    "  for i in range(n):\n",
    "    temp=[]\n",
    "    for j in range(n):\n",
    "      temp.append(0)\n",
    "    V.append(temp)\n",
    "\n",
    "  D=[]\n",
    "  for i in range(n):\n",
    "    vec=[]\n",
    "    for j in range(n):\n",
    "      if i==j:\n",
    "        vec.append(U[i][j])\n",
    "      else:\n",
    "        vec.append(0)\n",
    "    D.append(vec)\n",
    "\n",
    "  for i in range(n):\n",
    "    for j in range(n):\n",
    "      V[i][j]=U[i][j]/U[i][i]\n",
    "\n",
    "  return L,D,V      \n"
   ]
  },
  {
   "cell_type": "code",
   "execution_count": 9,
   "metadata": {},
   "outputs": [
    {
     "name": "stdout",
     "output_type": "stream",
     "text": [
      "L: \n",
      "[1, 0, 0, 0]\n",
      "[-1.0, 1, 0, 0]\n",
      "[2.0, 1.0, 1, 0]\n",
      "[3.0, 2.0, -1.0, 1]\n",
      "\n",
      "\n",
      "D: \n",
      "[2, 0, 0, 0]\n",
      "[0, -1.0, 0, 0]\n",
      "[0, 0, 3.0, 0]\n",
      "[0, 0, 0, 2.0]\n",
      "\n",
      "\n",
      "V: \n",
      "[1.0, 2.0, 1.0, 1.5]\n",
      "[-0.0, 1.0, 1.0, -1.0]\n",
      "[0.0, 0.0, 1.0, 0.3333333333333333]\n",
      "[0.0, 0.0, 0.0, 1.0]\n"
     ]
    }
   ],
   "source": [
    "A=[[2,4,2,3],\n",
    "   [-2,-5,-3,-2],\n",
    "   [4,7,6,8],\n",
    "   [6,10,1,12]]\n",
    "n=4\n",
    "\n",
    "L,D,V = LDV(A,n)\n",
    "\n",
    "print(\"L: \")\n",
    "for i in range(n):\n",
    "  print(L[i])\n",
    "\n",
    "print(\"\\n\\nD: \")\n",
    "for i in range(n):\n",
    "  print(D[i])\n",
    "\n",
    "\n",
    "print(\"\\n\\nV: \")\n",
    "for i in range(n):\n",
    "  print(V[i])"
   ]
  },
  {
   "cell_type": "code",
   "execution_count": null,
   "metadata": {},
   "outputs": [],
   "source": []
  }
 ],
 "metadata": {
  "colab": {
   "collapsed_sections": [],
   "name": "LDV DECOMPOSITION.ipynb",
   "provenance": []
  },
  "kernelspec": {
   "display_name": "Python 3",
   "language": "python",
   "name": "python3"
  },
  "language_info": {
   "codemirror_mode": {
    "name": "ipython",
    "version": 3
   },
   "file_extension": ".py",
   "mimetype": "text/x-python",
   "name": "python",
   "nbconvert_exporter": "python",
   "pygments_lexer": "ipython3",
   "version": "3.7.6"
  }
 },
 "nbformat": 4,
 "nbformat_minor": 1
}
